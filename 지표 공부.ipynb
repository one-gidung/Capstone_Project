{
 "cells": [
  {
   "cell_type": "markdown",
   "metadata": {},
   "source": [
    "DataReader 사용하기"
   ]
  },
  {
   "cell_type": "code",
   "execution_count": 1,
   "metadata": {},
   "outputs": [],
   "source": [
    "import pandas_datareader.data as web\n",
    "import datetime"
   ]
  },
  {
   "cell_type": "markdown",
   "metadata": {},
   "source": [
    "web에서 주가 데이터 불러오기"
   ]
  },
  {
   "cell_type": "code",
   "execution_count": 2,
   "metadata": {
    "scrolled": true
   },
   "outputs": [
    {
     "data": {
      "text/html": [
       "<div>\n",
       "<style scoped>\n",
       "    .dataframe tbody tr th:only-of-type {\n",
       "        vertical-align: middle;\n",
       "    }\n",
       "\n",
       "    .dataframe tbody tr th {\n",
       "        vertical-align: top;\n",
       "    }\n",
       "\n",
       "    .dataframe thead th {\n",
       "        text-align: right;\n",
       "    }\n",
       "</style>\n",
       "<table border=\"1\" class=\"dataframe\">\n",
       "  <thead>\n",
       "    <tr style=\"text-align: right;\">\n",
       "      <th></th>\n",
       "      <th>High</th>\n",
       "      <th>Low</th>\n",
       "      <th>Open</th>\n",
       "      <th>Close</th>\n",
       "      <th>Volume</th>\n",
       "      <th>Adj Close</th>\n",
       "    </tr>\n",
       "    <tr>\n",
       "      <th>Date</th>\n",
       "      <th></th>\n",
       "      <th></th>\n",
       "      <th></th>\n",
       "      <th></th>\n",
       "      <th></th>\n",
       "      <th></th>\n",
       "    </tr>\n",
       "  </thead>\n",
       "  <tbody>\n",
       "    <tr>\n",
       "      <th>2016-02-19</th>\n",
       "      <td>51100</td>\n",
       "      <td>49950</td>\n",
       "      <td>50300</td>\n",
       "      <td>50600</td>\n",
       "      <td>301800</td>\n",
       "      <td>42082.011719</td>\n",
       "    </tr>\n",
       "    <tr>\n",
       "      <th>2016-02-22</th>\n",
       "      <td>50800</td>\n",
       "      <td>49850</td>\n",
       "      <td>50300</td>\n",
       "      <td>50400</td>\n",
       "      <td>153961</td>\n",
       "      <td>41915.683594</td>\n",
       "    </tr>\n",
       "    <tr>\n",
       "      <th>2016-02-23</th>\n",
       "      <td>53000</td>\n",
       "      <td>50800</td>\n",
       "      <td>50800</td>\n",
       "      <td>52800</td>\n",
       "      <td>431934</td>\n",
       "      <td>43911.664062</td>\n",
       "    </tr>\n",
       "    <tr>\n",
       "      <th>2016-02-24</th>\n",
       "      <td>53500</td>\n",
       "      <td>51900</td>\n",
       "      <td>52000</td>\n",
       "      <td>53500</td>\n",
       "      <td>259616</td>\n",
       "      <td>44493.824219</td>\n",
       "    </tr>\n",
       "    <tr>\n",
       "      <th>2016-02-25</th>\n",
       "      <td>54700</td>\n",
       "      <td>52700</td>\n",
       "      <td>53900</td>\n",
       "      <td>53900</td>\n",
       "      <td>170839</td>\n",
       "      <td>44826.488281</td>\n",
       "    </tr>\n",
       "    <tr>\n",
       "      <th>2016-02-26</th>\n",
       "      <td>54500</td>\n",
       "      <td>53200</td>\n",
       "      <td>54300</td>\n",
       "      <td>53300</td>\n",
       "      <td>159453</td>\n",
       "      <td>44327.496094</td>\n",
       "    </tr>\n",
       "    <tr>\n",
       "      <th>2016-02-29</th>\n",
       "      <td>53900</td>\n",
       "      <td>52800</td>\n",
       "      <td>53000</td>\n",
       "      <td>53000</td>\n",
       "      <td>154692</td>\n",
       "      <td>44077.996094</td>\n",
       "    </tr>\n",
       "    <tr>\n",
       "      <th>2016-03-02</th>\n",
       "      <td>55200</td>\n",
       "      <td>53500</td>\n",
       "      <td>53900</td>\n",
       "      <td>55100</td>\n",
       "      <td>229999</td>\n",
       "      <td>45824.488281</td>\n",
       "    </tr>\n",
       "    <tr>\n",
       "      <th>2016-03-03</th>\n",
       "      <td>55800</td>\n",
       "      <td>54300</td>\n",
       "      <td>55300</td>\n",
       "      <td>55000</td>\n",
       "      <td>217063</td>\n",
       "      <td>45741.312500</td>\n",
       "    </tr>\n",
       "    <tr>\n",
       "      <th>2016-03-04</th>\n",
       "      <td>54800</td>\n",
       "      <td>53200</td>\n",
       "      <td>54700</td>\n",
       "      <td>54200</td>\n",
       "      <td>237934</td>\n",
       "      <td>45075.992188</td>\n",
       "    </tr>\n",
       "  </tbody>\n",
       "</table>\n",
       "</div>"
      ],
      "text/plain": [
       "             High    Low   Open  Close  Volume     Adj Close\n",
       "Date                                                        \n",
       "2016-02-19  51100  49950  50300  50600  301800  42082.011719\n",
       "2016-02-22  50800  49850  50300  50400  153961  41915.683594\n",
       "2016-02-23  53000  50800  50800  52800  431934  43911.664062\n",
       "2016-02-24  53500  51900  52000  53500  259616  44493.824219\n",
       "2016-02-25  54700  52700  53900  53900  170839  44826.488281\n",
       "2016-02-26  54500  53200  54300  53300  159453  44327.496094\n",
       "2016-02-29  53900  52800  53000  53000  154692  44077.996094\n",
       "2016-03-02  55200  53500  53900  55100  229999  45824.488281\n",
       "2016-03-03  55800  54300  55300  55000  217063  45741.312500\n",
       "2016-03-04  54800  53200  54700  54200  237934  45075.992188"
      ]
     },
     "execution_count": 2,
     "metadata": {},
     "output_type": "execute_result"
    }
   ],
   "source": [
    "start = datetime.datetime(2016, 2, 19)\n",
    "end = datetime.datetime(2016, 3, 4)\n",
    "gs =web.DataReader(\"078930.KS\", \"yahoo\", start, end)\n",
    "gs"
   ]
  },
  {
   "cell_type": "code",
   "execution_count": 3,
   "metadata": {},
   "outputs": [
    {
     "name": "stdout",
     "output_type": "stream",
     "text": [
      "<class 'pandas.core.frame.DataFrame'>\n",
      "DatetimeIndex: 10 entries, 2016-02-19 to 2016-03-04\n",
      "Data columns (total 6 columns):\n",
      " #   Column     Non-Null Count  Dtype  \n",
      "---  ------     --------------  -----  \n",
      " 0   High       10 non-null     int64  \n",
      " 1   Low        10 non-null     int64  \n",
      " 2   Open       10 non-null     int64  \n",
      " 3   Close      10 non-null     int64  \n",
      " 4   Volume     10 non-null     int64  \n",
      " 5   Adj Close  10 non-null     float64\n",
      "dtypes: float64(1), int64(5)\n",
      "memory usage: 560.0 bytes\n"
     ]
    }
   ],
   "source": [
    "gs.info()"
   ]
  },
  {
   "cell_type": "code",
   "execution_count": 4,
   "metadata": {},
   "outputs": [],
   "source": [
    "gs = web.DataReader(\"078930.KS\", \"yahoo\")"
   ]
  },
  {
   "cell_type": "code",
   "execution_count": 5,
   "metadata": {},
   "outputs": [
    {
     "name": "stdout",
     "output_type": "stream",
     "text": [
      "<class 'pandas.core.frame.DataFrame'>\n",
      "DatetimeIndex: 1221 entries, 2016-04-20 to 2021-04-19\n",
      "Data columns (total 6 columns):\n",
      " #   Column     Non-Null Count  Dtype  \n",
      "---  ------     --------------  -----  \n",
      " 0   High       1221 non-null   float64\n",
      " 1   Low        1221 non-null   float64\n",
      " 2   Open       1221 non-null   float64\n",
      " 3   Close      1221 non-null   float64\n",
      " 4   Volume     1221 non-null   float64\n",
      " 5   Adj Close  1221 non-null   float64\n",
      "dtypes: float64(6)\n",
      "memory usage: 66.8 KB\n"
     ]
    }
   ],
   "source": [
    "gs.info()"
   ]
  },
  {
   "cell_type": "code",
   "execution_count": null,
   "metadata": {},
   "outputs": [],
   "source": [
    "수정된 종가 그리기"
   ]
  },
  {
   "cell_type": "code",
   "execution_count": 7,
   "metadata": {},
   "outputs": [],
   "source": [
    "import matplotlib.pyplot as plt"
   ]
  },
  {
   "cell_type": "code",
   "execution_count": 10,
   "metadata": {},
   "outputs": [
    {
     "data": {
      "image/png": "[encoded data removed]",
      "text/plain": [
       "<Figure size 432x288 with 1 Axes>"
      ]
     },
     "metadata": {
      "needs_background": "light"
     },
     "output_type": "display_data"
    }
   ],
   "source": [
    "plt.plot(gs['Adj Close'])\n",
    "plt.show()"
   ]
  },
  {
   "cell_type": "code",
   "execution_count": 12,
   "metadata": {},
   "outputs": [],
   "source": [
    "# Get GS Data from Yahoo\n",
    "gs = web.DataReader(\"078930.KS\", \"yahoo\", \"2014-01-01\", \"2021-03-06\")"
   ]
  },
  {
   "cell_type": "code",
   "execution_count": 13,
   "metadata": {},
   "outputs": [
    {
     "data": {
      "text/html": [
       "<div>\n",
       "<style scoped>\n",
       "    .dataframe tbody tr th:only-of-type {\n",
       "        vertical-align: middle;\n",
       "    }\n",
       "\n",
       "    .dataframe tbody tr th {\n",
       "        vertical-align: top;\n",
       "    }\n",
       "\n",
       "    .dataframe thead th {\n",
       "        text-align: right;\n",
       "    }\n",
       "</style>\n",
       "<table border=\"1\" class=\"dataframe\">\n",
       "  <thead>\n",
       "    <tr style=\"text-align: right;\">\n",
       "      <th></th>\n",
       "      <th>High</th>\n",
       "      <th>Low</th>\n",
       "      <th>Open</th>\n",
       "      <th>Close</th>\n",
       "      <th>Volume</th>\n",
       "      <th>Adj Close</th>\n",
       "    </tr>\n",
       "    <tr>\n",
       "      <th>Date</th>\n",
       "      <th></th>\n",
       "      <th></th>\n",
       "      <th></th>\n",
       "      <th></th>\n",
       "      <th></th>\n",
       "      <th></th>\n",
       "    </tr>\n",
       "  </thead>\n",
       "  <tbody>\n",
       "    <tr>\n",
       "      <th>2021-02-26</th>\n",
       "      <td>39400.0</td>\n",
       "      <td>38550.0</td>\n",
       "      <td>39000.0</td>\n",
       "      <td>39000.0</td>\n",
       "      <td>607906.0</td>\n",
       "      <td>39000.0</td>\n",
       "    </tr>\n",
       "    <tr>\n",
       "      <th>2021-03-02</th>\n",
       "      <td>39850.0</td>\n",
       "      <td>38300.0</td>\n",
       "      <td>39800.0</td>\n",
       "      <td>38500.0</td>\n",
       "      <td>573951.0</td>\n",
       "      <td>38500.0</td>\n",
       "    </tr>\n",
       "    <tr>\n",
       "      <th>2021-03-03</th>\n",
       "      <td>39100.0</td>\n",
       "      <td>38300.0</td>\n",
       "      <td>38400.0</td>\n",
       "      <td>39100.0</td>\n",
       "      <td>297223.0</td>\n",
       "      <td>39100.0</td>\n",
       "    </tr>\n",
       "    <tr>\n",
       "      <th>2021-03-04</th>\n",
       "      <td>39500.0</td>\n",
       "      <td>38600.0</td>\n",
       "      <td>38900.0</td>\n",
       "      <td>38850.0</td>\n",
       "      <td>342738.0</td>\n",
       "      <td>38850.0</td>\n",
       "    </tr>\n",
       "    <tr>\n",
       "      <th>2021-03-05</th>\n",
       "      <td>39450.0</td>\n",
       "      <td>38350.0</td>\n",
       "      <td>39000.0</td>\n",
       "      <td>38550.0</td>\n",
       "      <td>451865.0</td>\n",
       "      <td>38550.0</td>\n",
       "    </tr>\n",
       "  </tbody>\n",
       "</table>\n",
       "</div>"
      ],
      "text/plain": [
       "               High      Low     Open    Close    Volume  Adj Close\n",
       "Date                                                               \n",
       "2021-02-26  39400.0  38550.0  39000.0  39000.0  607906.0    39000.0\n",
       "2021-03-02  39850.0  38300.0  39800.0  38500.0  573951.0    38500.0\n",
       "2021-03-03  39100.0  38300.0  38400.0  39100.0  297223.0    39100.0\n",
       "2021-03-04  39500.0  38600.0  38900.0  38850.0  342738.0    38850.0\n",
       "2021-03-05  39450.0  38350.0  39000.0  38550.0  451865.0    38550.0"
      ]
     },
     "execution_count": 13,
     "metadata": {},
     "output_type": "execute_result"
    }
   ],
   "source": [
    "gs.tail()"
   ]
  },
  {
   "cell_type": "code",
   "execution_count": null,
   "metadata": {},
   "outputs": [],
   "source": [
    "5일 주가이동평균 칼럼 추가하기"
   ]
  },
  {
   "cell_type": "code",
   "execution_count": 16,
   "metadata": {},
   "outputs": [
    {
     "data": {
      "text/plain": [
       "Date\n",
       "2021-02-19    39960.0\n",
       "2021-02-22    40170.0\n",
       "2021-02-23    40390.0\n",
       "2021-02-24    40100.0\n",
       "2021-02-25    40140.0\n",
       "2021-02-26    40150.0\n",
       "2021-03-02    39650.0\n",
       "2021-03-03    39210.0\n",
       "2021-03-04    39080.0\n",
       "2021-03-05    38800.0\n",
       "Name: Adj Close, dtype: float64"
      ]
     },
     "execution_count": 16,
     "metadata": {},
     "output_type": "execute_result"
    }
   ],
   "source": [
    "ma5 = gs['Adj Close'].rolling(window=5).mean()\n",
    "ma5.tail(10)"
   ]
  },
  {
   "cell_type": "code",
   "execution_count": 19,
   "metadata": {},
   "outputs": [
    {
     "data": {
      "text/html": [
       "<div>\n",
       "<style scoped>\n",
       "    .dataframe tbody tr th:only-of-type {\n",
       "        vertical-align: middle;\n",
       "    }\n",
       "\n",
       "    .dataframe tbody tr th {\n",
       "        vertical-align: top;\n",
       "    }\n",
       "\n",
       "    .dataframe thead th {\n",
       "        text-align: right;\n",
       "    }\n",
       "</style>\n",
       "<table border=\"1\" class=\"dataframe\">\n",
       "  <thead>\n",
       "    <tr style=\"text-align: right;\">\n",
       "      <th></th>\n",
       "      <th>High</th>\n",
       "      <th>Low</th>\n",
       "      <th>Open</th>\n",
       "      <th>Close</th>\n",
       "      <th>Volume</th>\n",
       "      <th>Adj Close</th>\n",
       "      <th>MA5</th>\n",
       "    </tr>\n",
       "    <tr>\n",
       "      <th>Date</th>\n",
       "      <th></th>\n",
       "      <th></th>\n",
       "      <th></th>\n",
       "      <th></th>\n",
       "      <th></th>\n",
       "      <th></th>\n",
       "      <th></th>\n",
       "    </tr>\n",
       "  </thead>\n",
       "  <tbody>\n",
       "    <tr>\n",
       "      <th>2021-02-26</th>\n",
       "      <td>39400.0</td>\n",
       "      <td>38550.0</td>\n",
       "      <td>39000.0</td>\n",
       "      <td>39000.0</td>\n",
       "      <td>607906.0</td>\n",
       "      <td>39000.0</td>\n",
       "      <td>40150.0</td>\n",
       "    </tr>\n",
       "    <tr>\n",
       "      <th>2021-03-02</th>\n",
       "      <td>39850.0</td>\n",
       "      <td>38300.0</td>\n",
       "      <td>39800.0</td>\n",
       "      <td>38500.0</td>\n",
       "      <td>573951.0</td>\n",
       "      <td>38500.0</td>\n",
       "      <td>39650.0</td>\n",
       "    </tr>\n",
       "    <tr>\n",
       "      <th>2021-03-03</th>\n",
       "      <td>39100.0</td>\n",
       "      <td>38300.0</td>\n",
       "      <td>38400.0</td>\n",
       "      <td>39100.0</td>\n",
       "      <td>297223.0</td>\n",
       "      <td>39100.0</td>\n",
       "      <td>39210.0</td>\n",
       "    </tr>\n",
       "    <tr>\n",
       "      <th>2021-03-04</th>\n",
       "      <td>39500.0</td>\n",
       "      <td>38600.0</td>\n",
       "      <td>38900.0</td>\n",
       "      <td>38850.0</td>\n",
       "      <td>342738.0</td>\n",
       "      <td>38850.0</td>\n",
       "      <td>39080.0</td>\n",
       "    </tr>\n",
       "    <tr>\n",
       "      <th>2021-03-05</th>\n",
       "      <td>39450.0</td>\n",
       "      <td>38350.0</td>\n",
       "      <td>39000.0</td>\n",
       "      <td>38550.0</td>\n",
       "      <td>451865.0</td>\n",
       "      <td>38550.0</td>\n",
       "      <td>38800.0</td>\n",
       "    </tr>\n",
       "  </tbody>\n",
       "</table>\n",
       "</div>"
      ],
      "text/plain": [
       "               High      Low     Open    Close    Volume  Adj Close      MA5\n",
       "Date                                                                        \n",
       "2021-02-26  39400.0  38550.0  39000.0  39000.0  607906.0    39000.0  40150.0\n",
       "2021-03-02  39850.0  38300.0  39800.0  38500.0  573951.0    38500.0  39650.0\n",
       "2021-03-03  39100.0  38300.0  38400.0  39100.0  297223.0    39100.0  39210.0\n",
       "2021-03-04  39500.0  38600.0  38900.0  38850.0  342738.0    38850.0  39080.0\n",
       "2021-03-05  39450.0  38350.0  39000.0  38550.0  451865.0    38550.0  38800.0"
      ]
     },
     "execution_count": 19,
     "metadata": {},
     "output_type": "execute_result"
    }
   ],
   "source": [
    "gs.insert(len(gs.columns), \"MA5\", ma5)\n",
    "gs.tail(5)"
   ]
  },
  {
   "cell_type": "code",
   "execution_count": null,
   "metadata": {},
   "outputs": [],
   "source": [
    "20일, 60일, 120일 주가이동평균 칼럼에 추가"
   ]
  },
  {
   "cell_type": "code",
   "execution_count": 20,
   "metadata": {},
   "outputs": [],
   "source": [
    "# Moving average\n",
    "ma20 = gs['Adj Close'].rolling(window=20).mean()\n",
    "ma60 = gs['Adj Close'].rolling(window=60).mean()\n",
    "ma120 = gs['Adj Close'].rolling(window=120).mean()\n",
    "\n",
    "# Insert columns\n",
    "gs.insert(len(gs.columns), \"MA20\", ma20)\n",
    "gs.insert(len(gs.columns), \"MA60\", ma60)\n",
    "gs.insert(len(gs.columns), \"MA120\", ma120)"
   ]
  },
  {
   "cell_type": "code",
   "execution_count": 21,
   "metadata": {
    "scrolled": true
   },
   "outputs": [
    {
     "data": {
      "text/html": [
       "<div>\n",
       "<style scoped>\n",
       "    .dataframe tbody tr th:only-of-type {\n",
       "        vertical-align: middle;\n",
       "    }\n",
       "\n",
       "    .dataframe tbody tr th {\n",
       "        vertical-align: top;\n",
       "    }\n",
       "\n",
       "    .dataframe thead th {\n",
       "        text-align: right;\n",
       "    }\n",
       "</style>\n",
       "<table border=\"1\" class=\"dataframe\">\n",
       "  <thead>\n",
       "    <tr style=\"text-align: right;\">\n",
       "      <th></th>\n",
       "      <th>High</th>\n",
       "      <th>Low</th>\n",
       "      <th>Open</th>\n",
       "      <th>Close</th>\n",
       "      <th>Volume</th>\n",
       "      <th>Adj Close</th>\n",
       "      <th>MA5</th>\n",
       "      <th>MA20</th>\n",
       "      <th>MA60</th>\n",
       "      <th>MA120</th>\n",
       "    </tr>\n",
       "    <tr>\n",
       "      <th>Date</th>\n",
       "      <th></th>\n",
       "      <th></th>\n",
       "      <th></th>\n",
       "      <th></th>\n",
       "      <th></th>\n",
       "      <th></th>\n",
       "      <th></th>\n",
       "      <th></th>\n",
       "      <th></th>\n",
       "      <th></th>\n",
       "    </tr>\n",
       "  </thead>\n",
       "  <tbody>\n",
       "    <tr>\n",
       "      <th>2021-02-26</th>\n",
       "      <td>39400.0</td>\n",
       "      <td>38550.0</td>\n",
       "      <td>39000.0</td>\n",
       "      <td>39000.0</td>\n",
       "      <td>607906.0</td>\n",
       "      <td>39000.0</td>\n",
       "      <td>40150.0</td>\n",
       "      <td>38962.5</td>\n",
       "      <td>37810.067448</td>\n",
       "      <td>35153.246175</td>\n",
       "    </tr>\n",
       "    <tr>\n",
       "      <th>2021-03-02</th>\n",
       "      <td>39850.0</td>\n",
       "      <td>38300.0</td>\n",
       "      <td>39800.0</td>\n",
       "      <td>38500.0</td>\n",
       "      <td>573951.0</td>\n",
       "      <td>38500.0</td>\n",
       "      <td>39650.0</td>\n",
       "      <td>39040.0</td>\n",
       "      <td>37896.584896</td>\n",
       "      <td>35215.511426</td>\n",
       "    </tr>\n",
       "    <tr>\n",
       "      <th>2021-03-03</th>\n",
       "      <td>39100.0</td>\n",
       "      <td>38300.0</td>\n",
       "      <td>38400.0</td>\n",
       "      <td>39100.0</td>\n",
       "      <td>297223.0</td>\n",
       "      <td>39100.0</td>\n",
       "      <td>39210.0</td>\n",
       "      <td>39182.5</td>\n",
       "      <td>37966.968359</td>\n",
       "      <td>35274.857292</td>\n",
       "    </tr>\n",
       "    <tr>\n",
       "      <th>2021-03-04</th>\n",
       "      <td>39500.0</td>\n",
       "      <td>38600.0</td>\n",
       "      <td>38900.0</td>\n",
       "      <td>38850.0</td>\n",
       "      <td>342738.0</td>\n",
       "      <td>38850.0</td>\n",
       "      <td>39080.0</td>\n",
       "      <td>39260.0</td>\n",
       "      <td>38027.641536</td>\n",
       "      <td>35333.307731</td>\n",
       "    </tr>\n",
       "    <tr>\n",
       "      <th>2021-03-05</th>\n",
       "      <td>39450.0</td>\n",
       "      <td>38350.0</td>\n",
       "      <td>39000.0</td>\n",
       "      <td>38550.0</td>\n",
       "      <td>451865.0</td>\n",
       "      <td>38550.0</td>\n",
       "      <td>38800.0</td>\n",
       "      <td>39282.5</td>\n",
       "      <td>38088.858333</td>\n",
       "      <td>35389.654134</td>\n",
       "    </tr>\n",
       "  </tbody>\n",
       "</table>\n",
       "</div>"
      ],
      "text/plain": [
       "               High      Low     Open    Close    Volume  Adj Close      MA5  \\\n",
       "Date                                                                           \n",
       "2021-02-26  39400.0  38550.0  39000.0  39000.0  607906.0    39000.0  40150.0   \n",
       "2021-03-02  39850.0  38300.0  39800.0  38500.0  573951.0    38500.0  39650.0   \n",
       "2021-03-03  39100.0  38300.0  38400.0  39100.0  297223.0    39100.0  39210.0   \n",
       "2021-03-04  39500.0  38600.0  38900.0  38850.0  342738.0    38850.0  39080.0   \n",
       "2021-03-05  39450.0  38350.0  39000.0  38550.0  451865.0    38550.0  38800.0   \n",
       "\n",
       "               MA20          MA60         MA120  \n",
       "Date                                             \n",
       "2021-02-26  38962.5  37810.067448  35153.246175  \n",
       "2021-03-02  39040.0  37896.584896  35215.511426  \n",
       "2021-03-03  39182.5  37966.968359  35274.857292  \n",
       "2021-03-04  39260.0  38027.641536  35333.307731  \n",
       "2021-03-05  39282.5  38088.858333  35389.654134  "
      ]
     },
     "execution_count": 21,
     "metadata": {},
     "output_type": "execute_result"
    }
   ],
   "source": [
    "gs.tail(5)"
   ]
  },
  {
   "cell_type": "markdown",
   "metadata": {},
   "source": [
    "주가이동평균선 그리기"
   ]
  },
  {
   "cell_type": "code",
   "execution_count": 22,
   "metadata": {},
   "outputs": [
    {
     "data": {
      "image/png": "[encoded data removed]",
      "text/plain": [
       "<Figure size 432x288 with 1 Axes>"
      ]
     },
     "metadata": {
      "needs_background": "light"
     },
     "output_type": "display_data"
    }
   ],
   "source": [
    "# Plot\n",
    "plt.plot(gs.index, gs['Adj Close'], label=\"Adj Close\")\n",
    "plt.plot(gs.index, gs['MA5'], label=\"MA5\")\n",
    "plt.plot(gs.index, gs['MA20'], label=\"MA20\")\n",
    "plt.plot(gs.index, gs['MA60'], label=\"MA60\")\n",
    "plt.plot(gs.index, gs['MA120'], label=\"MA120\")\n",
    "plt.legend(loc='best')                             # 범례표시: loc='best': 적절한 위치에 자동 출력\n",
    "plt.grid()                                         # 격자표시\n",
    "plt.show()"
   ]
  }
 ],
 "metadata": {
  "kernelspec": {
   "display_name": "Python 3",
   "language": "python",
   "name": "python3"
  },
  "language_info": {
   "codemirror_mode": {
    "name": "ipython",
    "version": 3
   },
   "file_extension": ".py",
   "mimetype": "text/x-python",
   "name": "python",
   "nbconvert_exporter": "python",
   "pygments_lexer": "ipython3",
   "version": "3.8.5"
  }
 },
 "nbformat": 4,
 "nbformat_minor": 4
}
